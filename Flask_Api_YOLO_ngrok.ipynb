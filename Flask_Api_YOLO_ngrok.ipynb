{
 "cells": [
  {
   "cell_type": "code",
   "execution_count": null,
   "metadata": {
    "colab": {
     "base_uri": "https://localhost:8080/"
    },
    "executionInfo": {
     "elapsed": 13851,
     "status": "ok",
     "timestamp": 1648427302490,
     "user": {
      "displayName": "Yaroslav Tyschenko",
      "photoUrl": "https://lh3.googleusercontent.com/a/default-user=s64",
      "userId": "14487952742839689172"
     },
     "user_tz": -180
    },
    "id": "rO-l5nnguW5h",
    "outputId": "5e0133ac-9bf0-4733-937c-bd9760a55f04"
   },
   "outputs": [],
   "source": [
    "!pip install -r ./requirements.txt\n",
    "\n",
    "import flask\n",
    "from flask import Flask, render_template, request\n",
    "from flask_ngrok import run_with_ngrok\n",
    "import os\n",
    "\n",
    "from yolov3.utils import detect_image, Load_Yolo_model\n",
    "from yolov3.configs import *\n",
    "\n",
    "yolo = Load_Yolo_model()"
   ]
  },
  {
   "cell_type": "code",
   "execution_count": null,
   "metadata": {
    "colab": {
     "base_uri": "https://localhost:8080/"
    },
    "executionInfo": {
     "elapsed": 1199,
     "status": "ok",
     "timestamp": 1648427306654,
     "user": {
      "displayName": "Yaroslav Tyschenko",
      "photoUrl": "https://lh3.googleusercontent.com/a/default-user=s64",
      "userId": "14487952742839689172"
     },
     "user_tz": -180
    },
    "id": "cx-AIkJQQbaq",
    "outputId": "71636422-f5c4-449d-bedb-3be21c7f8aa6"
   },
   "outputs": [],
   "source": [
    "# Put your ngrok token\n",
    "!ngrok authtoken 26LPZYNETb2G2mIzWhe9ddHXkYv_6uvhfDYAfqsztiSy9JkZQ"
   ]
  },
  {
   "cell_type": "code",
   "execution_count": null,
   "metadata": {
    "executionInfo": {
     "elapsed": 232,
     "status": "ok",
     "timestamp": 1648429323127,
     "user": {
      "displayName": "Yaroslav Tyschenko",
      "photoUrl": "https://lh3.googleusercontent.com/a/default-user=s64",
      "userId": "14487952742839689172"
     },
     "user_tz": -180
    },
    "id": "k6ahX5-SQUWe"
   },
   "outputs": [],
   "source": [
    "# App defining\n",
    "image_folder = os.path.join('static','images')\n",
    "app = Flask(__name__)\n",
    "run_with_ngrok(app) \n",
    "app.config[\"UPLOAD_FOLDER\"] = image_folder\n",
    "\n",
    "@app.route('/', methods=['GET'])\n",
    "def home():\n",
    "  return render_template('index.html')\n",
    "\n",
    "@app.route('/', methods=['POST'])\n",
    "def predict():\n",
    "\n",
    "  imagefile = request.files['imagefile']\n",
    "  image_path = 'static/images/' + imagefile.filename\n",
    "\n",
    "  # image will be saved in static/images/\n",
    "  imagefile.save(image_path)\n",
    "\n",
    "  pic = os.path.join(app.config['UPLOAD_FOLDER'], imagefile.filename)\n",
    "  prediction = detect_image(yolo, pic, \"static/images/img_after_yolo.jpg\", input_size=YOLO_INPUT_SIZE, show=False, CLASSES=TRAIN_CLASSES, rectangle_colors=(255,0,0))\n",
    "  return render_template('index.html', user_image=\"static/images/img_after_yolo.jpg\", prediction_text='Result image with bounding boxes')"
   ]
  },
  {
   "cell_type": "code",
   "execution_count": null,
   "metadata": {
    "colab": {
     "base_uri": "https://localhost:8080/"
    },
    "executionInfo": {
     "elapsed": 208587,
     "status": "ok",
     "timestamp": 1648429533524,
     "user": {
      "displayName": "Yaroslav Tyschenko",
      "photoUrl": "https://lh3.googleusercontent.com/a/default-user=s64",
      "userId": "14487952742839689172"
     },
     "user_tz": -180
    },
    "id": "Bx_2wVLXQtNs",
    "outputId": "068d94c2-ccd5-4227-872d-13a8cd202035"
   },
   "outputs": [],
   "source": [
    "# Start app. Click on http://****.ngrok.io  \n",
    "if __name__=='__main__':\n",
    "  app.run()"
   ]
  }
 ],
 "metadata": {
  "colab": {
   "collapsed_sections": [],
   "name": "Flask_Api_YOLO.ipynb",
   "provenance": []
  },
  "kernelspec": {
   "display_name": "Python [conda env:py36]",
   "language": "python",
   "name": "conda-env-py36-py"
  },
  "language_info": {
   "codemirror_mode": {
    "name": "ipython",
    "version": 3
   },
   "file_extension": ".py",
   "mimetype": "text/x-python",
   "name": "python",
   "nbconvert_exporter": "python",
   "pygments_lexer": "ipython3",
   "version": "3.6.13"
  }
 },
 "nbformat": 4,
 "nbformat_minor": 1
}
