{
 "cells": [
  {
   "cell_type": "code",
   "execution_count": 5,
   "metadata": {
    "colab": {
     "base_uri": "https://localhost:8080/"
    },
    "executionInfo": {
     "elapsed": 13851,
     "status": "ok",
     "timestamp": 1648427302490,
     "user": {
      "displayName": "Yaroslav Tyschenko",
      "photoUrl": "https://lh3.googleusercontent.com/a/default-user=s64",
      "userId": "14487952742839689172"
     },
     "user_tz": -180
    },
    "id": "rO-l5nnguW5h",
    "outputId": "5e0133ac-9bf0-4733-937c-bd9760a55f04"
   },
   "outputs": [
    {
     "name": "stdout",
     "output_type": "stream",
     "text": [
      "Requirement already satisfied: numpy>=1.18.2 in c:\\games\\anaconda2\\envs\\py36\\lib\\site-packages (from -r ./requirements.txt (line 1)) (1.18.5)\n",
      "Requirement already satisfied: scipy>=1.4.1 in c:\\games\\anaconda2\\envs\\py36\\lib\\site-packages (from -r ./requirements.txt (line 2)) (1.5.4)\n",
      "Requirement already satisfied: wget>=3.2 in c:\\games\\anaconda2\\envs\\py36\\lib\\site-packages (from -r ./requirements.txt (line 3)) (3.2)\n",
      "Requirement already satisfied: seaborn>=0.10.0 in c:\\games\\anaconda2\\envs\\py36\\lib\\site-packages (from -r ./requirements.txt (line 4)) (0.11.2)\n",
      "Requirement already satisfied: tensorflow==2.3.1 in c:\\games\\anaconda2\\envs\\py36\\lib\\site-packages (from -r ./requirements.txt (line 5)) (2.3.1)\n",
      "Requirement already satisfied: tensorflow-gpu==2.3.1 in c:\\games\\anaconda2\\envs\\py36\\lib\\site-packages (from -r ./requirements.txt (line 6)) (2.3.1)\n",
      "Requirement already satisfied: opencv-python==4.1.2.30 in c:\\games\\anaconda2\\envs\\py36\\lib\\site-packages (from -r ./requirements.txt (line 7)) (4.1.2.30)\n",
      "Requirement already satisfied: tqdm==4.43.0 in c:\\games\\anaconda2\\envs\\py36\\lib\\site-packages (from -r ./requirements.txt (line 8)) (4.43.0)\n",
      "Requirement already satisfied: pandas in c:\\games\\anaconda2\\envs\\py36\\lib\\site-packages (from -r ./requirements.txt (line 9)) (1.1.5)\n",
      "Requirement already satisfied: awscli in c:\\games\\anaconda2\\envs\\py36\\lib\\site-packages (from -r ./requirements.txt (line 10)) (1.22.79)\n",
      "Requirement already satisfied: urllib3 in c:\\games\\anaconda2\\envs\\py36\\lib\\site-packages (from -r ./requirements.txt (line 11)) (1.26.6)\n",
      "Requirement already satisfied: mss in c:\\games\\anaconda2\\envs\\py36\\lib\\site-packages (from -r ./requirements.txt (line 12)) (6.1.0)\n",
      "Requirement already satisfied: flask_ngrok in c:\\games\\anaconda2\\envs\\py36\\lib\\site-packages (from -r ./requirements.txt (line 13)) (0.0.25)\n",
      "Requirement already satisfied: pyngrok in c:\\games\\anaconda2\\envs\\py36\\lib\\site-packages (from -r ./requirements.txt (line 14)) (5.1.0)\n",
      "Requirement already satisfied: absl-py>=0.7.0 in c:\\games\\anaconda2\\envs\\py36\\lib\\site-packages (from tensorflow==2.3.1->-r ./requirements.txt (line 5)) (0.13.0)\n",
      "Requirement already satisfied: keras-preprocessing<1.2,>=1.1.1 in c:\\games\\anaconda2\\envs\\py36\\lib\\site-packages (from tensorflow==2.3.1->-r ./requirements.txt (line 5)) (1.1.2)\n",
      "Requirement already satisfied: astunparse==1.6.3 in c:\\games\\anaconda2\\envs\\py36\\lib\\site-packages (from tensorflow==2.3.1->-r ./requirements.txt (line 5)) (1.6.3)\n",
      "Requirement already satisfied: tensorflow-estimator<2.4.0,>=2.3.0 in c:\\games\\anaconda2\\envs\\py36\\lib\\site-packages (from tensorflow==2.3.1->-r ./requirements.txt (line 5)) (2.3.0)\n",
      "Requirement already satisfied: protobuf>=3.9.2 in c:\\games\\anaconda2\\envs\\py36\\lib\\site-packages (from tensorflow==2.3.1->-r ./requirements.txt (line 5)) (3.17.3)\n",
      "Requirement already satisfied: tensorboard<3,>=2.3.0 in c:\\games\\anaconda2\\envs\\py36\\lib\\site-packages (from tensorflow==2.3.1->-r ./requirements.txt (line 5)) (2.5.0)\n",
      "Requirement already satisfied: six>=1.12.0 in c:\\games\\anaconda2\\envs\\py36\\lib\\site-packages (from tensorflow==2.3.1->-r ./requirements.txt (line 5)) (1.15.0)\n",
      "Requirement already satisfied: grpcio>=1.8.6 in c:\\games\\anaconda2\\envs\\py36\\lib\\site-packages (from tensorflow==2.3.1->-r ./requirements.txt (line 5)) (1.34.1)\n",
      "Requirement already satisfied: termcolor>=1.1.0 in c:\\games\\anaconda2\\envs\\py36\\lib\\site-packages (from tensorflow==2.3.1->-r ./requirements.txt (line 5)) (1.1.0)\n",
      "Requirement already satisfied: gast==0.3.3 in c:\\games\\anaconda2\\envs\\py36\\lib\\site-packages (from tensorflow==2.3.1->-r ./requirements.txt (line 5)) (0.3.3)\n",
      "Requirement already satisfied: opt-einsum>=2.3.2 in c:\\games\\anaconda2\\envs\\py36\\lib\\site-packages (from tensorflow==2.3.1->-r ./requirements.txt (line 5)) (3.3.0)\n",
      "Requirement already satisfied: wrapt>=1.11.1 in c:\\games\\anaconda2\\envs\\py36\\lib\\site-packages (from tensorflow==2.3.1->-r ./requirements.txt (line 5)) (1.12.1)\n",
      "Requirement already satisfied: h5py<2.11.0,>=2.10.0 in c:\\games\\anaconda2\\envs\\py36\\lib\\site-packages (from tensorflow==2.3.1->-r ./requirements.txt (line 5)) (2.10.0)\n",
      "Requirement already satisfied: google-pasta>=0.1.8 in c:\\games\\anaconda2\\envs\\py36\\lib\\site-packages (from tensorflow==2.3.1->-r ./requirements.txt (line 5)) (0.2.0)\n",
      "Requirement already satisfied: wheel>=0.26 in c:\\games\\anaconda2\\envs\\py36\\lib\\site-packages (from tensorflow==2.3.1->-r ./requirements.txt (line 5)) (0.36.2)\n",
      "Requirement already satisfied: tensorflow-gpu-estimator<2.4.0,>=2.3.0 in c:\\games\\anaconda2\\envs\\py36\\lib\\site-packages (from tensorflow-gpu==2.3.1->-r ./requirements.txt (line 6)) (2.3.0)\n",
      "Requirement already satisfied: matplotlib>=2.2 in c:\\games\\anaconda2\\envs\\py36\\lib\\site-packages (from seaborn>=0.10.0->-r ./requirements.txt (line 4)) (3.3.4)\n",
      "Requirement already satisfied: python-dateutil>=2.7.3 in c:\\games\\anaconda2\\envs\\py36\\lib\\site-packages (from pandas->-r ./requirements.txt (line 9)) (2.8.1)\n",
      "Requirement already satisfied: pytz>=2017.2 in c:\\games\\anaconda2\\envs\\py36\\lib\\site-packages (from pandas->-r ./requirements.txt (line 9)) (2021.1)\n",
      "Requirement already satisfied: pyparsing!=2.0.4,!=2.1.2,!=2.1.6,>=2.0.3 in c:\\games\\anaconda2\\envs\\py36\\lib\\site-packages (from matplotlib>=2.2->seaborn>=0.10.0->-r ./requirements.txt (line 4)) (2.4.7)\n",
      "Requirement already satisfied: cycler>=0.10 in c:\\games\\anaconda2\\envs\\py36\\lib\\site-packages (from matplotlib>=2.2->seaborn>=0.10.0->-r ./requirements.txt (line 4)) (0.10.0)\n",
      "Requirement already satisfied: pillow>=6.2.0 in c:\\games\\anaconda2\\envs\\py36\\lib\\site-packages (from matplotlib>=2.2->seaborn>=0.10.0->-r ./requirements.txt (line 4)) (8.2.0)\n",
      "Requirement already satisfied: kiwisolver>=1.0.1 in c:\\games\\anaconda2\\envs\\py36\\lib\\site-packages (from matplotlib>=2.2->seaborn>=0.10.0->-r ./requirements.txt (line 4)) (1.3.1)\n",
      "Requirement already satisfied: requests<3,>=2.21.0 in c:\\games\\anaconda2\\envs\\py36\\lib\\site-packages (from tensorboard<3,>=2.3.0->tensorflow==2.3.1->-r ./requirements.txt (line 5)) (2.26.0)\n",
      "Requirement already satisfied: markdown>=2.6.8 in c:\\games\\anaconda2\\envs\\py36\\lib\\site-packages (from tensorboard<3,>=2.3.0->tensorflow==2.3.1->-r ./requirements.txt (line 5)) (3.3.4)\n",
      "Requirement already satisfied: google-auth<2,>=1.6.3 in c:\\games\\anaconda2\\envs\\py36\\lib\\site-packages (from tensorboard<3,>=2.3.0->tensorflow==2.3.1->-r ./requirements.txt (line 5)) (1.33.0)\n",
      "Requirement already satisfied: setuptools>=41.0.0 in c:\\games\\anaconda2\\envs\\py36\\lib\\site-packages (from tensorboard<3,>=2.3.0->tensorflow==2.3.1->-r ./requirements.txt (line 5)) (52.0.0.post20210125)\n",
      "Loading custom weights from:Requirement already satisfied: tensorboard-data-server<0.7.0,>=0.6.0 in c:\\games\\anaconda2\\envs\\py36\\lib\\site-packages (from tensorboard<3,>=2.3.0->tensorflow==2.3.1->-r ./requirements.txt (line 5)) (0.6.1) ./checkpoints/yolov3_custom_UNO\n",
      "\n",
      "Requirement already satisfied: tensorboard-plugin-wit>=1.6.0 in c:\\games\\anaconda2\\envs\\py36\\lib\\site-packages (from tensorboard<3,>=2.3.0->tensorflow==2.3.1->-r ./requirements.txt (line 5)) (1.8.0)\n",
      "Requirement already satisfied: werkzeug>=0.11.15 in c:\\games\\anaconda2\\envs\\py36\\lib\\site-packages (from tensorboard<3,>=2.3.0->tensorflow==2.3.1->-r ./requirements.txt (line 5)) (2.0.1)\n",
      "Requirement already satisfied: google-auth-oauthlib<0.5,>=0.4.1 in c:\\games\\anaconda2\\envs\\py36\\lib\\site-packages (from tensorboard<3,>=2.3.0->tensorflow==2.3.1->-r ./requirements.txt (line 5)) (0.4.4)\n",
      "Requirement already satisfied: rsa<5,>=3.1.4 in c:\\games\\anaconda2\\envs\\py36\\lib\\site-packages (from google-auth<2,>=1.6.3->tensorboard<3,>=2.3.0->tensorflow==2.3.1->-r ./requirements.txt (line 5)) (4.7.2)\n",
      "Requirement already satisfied: cachetools<5.0,>=2.0.0 in c:\\games\\anaconda2\\envs\\py36\\lib\\site-packages (from google-auth<2,>=1.6.3->tensorboard<3,>=2.3.0->tensorflow==2.3.1->-r ./requirements.txt (line 5)) (4.2.2)\n",
      "Requirement already satisfied: pyasn1-modules>=0.2.1 in c:\\games\\anaconda2\\envs\\py36\\lib\\site-packages (from google-auth<2,>=1.6.3->tensorboard<3,>=2.3.0->tensorflow==2.3.1->-r ./requirements.txt (line 5)) (0.2.8)\n",
      "Requirement already satisfied: requests-oauthlib>=0.7.0 in c:\\games\\anaconda2\\envs\\py36\\lib\\site-packages (from google-auth-oauthlib<0.5,>=0.4.1->tensorboard<3,>=2.3.0->tensorflow==2.3.1->-r ./requirements.txt (line 5)) (1.3.0)\n",
      "Requirement already satisfied: importlib-metadata in c:\\games\\anaconda2\\envs\\py36\\lib\\site-packages (from markdown>=2.6.8->tensorboard<3,>=2.3.0->tensorflow==2.3.1->-r ./requirements.txt (line 5)) (4.0.1)\n",
      "Requirement already satisfied: pyasn1<0.5.0,>=0.4.6 in c:\\games\\anaconda2\\envs\\py36\\lib\\site-packages (from pyasn1-modules>=0.2.1->google-auth<2,>=1.6.3->tensorboard<3,>=2.3.0->tensorflow==2.3.1->-r ./requirements.txt (line 5)) (0.4.8)\n",
      "Requirement already satisfied: certifi>=2017.4.17 in c:\\games\\anaconda2\\envs\\py36\\lib\\site-packages (from requests<3,>=2.21.0->tensorboard<3,>=2.3.0->tensorflow==2.3.1->-r ./requirements.txt (line 5)) (2020.12.5)\n",
      "Requirement already satisfied: charset-normalizer~=2.0.0 in c:\\games\\anaconda2\\envs\\py36\\lib\\site-packages (from requests<3,>=2.21.0->tensorboard<3,>=2.3.0->tensorflow==2.3.1->-r ./requirements.txt (line 5)) (2.0.2)\n",
      "Requirement already satisfied: idna<4,>=2.5 in c:\\games\\anaconda2\\envs\\py36\\lib\\site-packages (from requests<3,>=2.21.0->tensorboard<3,>=2.3.0->tensorflow==2.3.1->-r ./requirements.txt (line 5)) (3.2)\n",
      "Requirement already satisfied: oauthlib>=3.0.0 in c:\\games\\anaconda2\\envs\\py36\\lib\\site-packages (from requests-oauthlib>=0.7.0->google-auth-oauthlib<0.5,>=0.4.1->tensorboard<3,>=2.3.0->tensorflow==2.3.1->-r ./requirements.txt (line 5)) (3.1.1)\n",
      "Requirement already satisfied: dataclasses in c:\\games\\anaconda2\\envs\\py36\\lib\\site-packages (from werkzeug>=0.11.15->tensorboard<3,>=2.3.0->tensorflow==2.3.1->-r ./requirements.txt (line 5)) (0.8)\n",
      "Requirement already satisfied: s3transfer<0.6.0,>=0.5.0 in c:\\games\\anaconda2\\envs\\py36\\lib\\site-packages (from awscli->-r ./requirements.txt (line 10)) (0.5.2)\n",
      "Requirement already satisfied: botocore==1.24.24 in c:\\games\\anaconda2\\envs\\py36\\lib\\site-packages (from awscli->-r ./requirements.txt (line 10)) (1.24.24)\n",
      "Requirement already satisfied: colorama<0.4.4,>=0.2.5 in c:\\games\\anaconda2\\envs\\py36\\lib\\site-packages (from awscli->-r ./requirements.txt (line 10)) (0.4.3)\n",
      "Requirement already satisfied: docutils<0.16,>=0.10 in c:\\games\\anaconda2\\envs\\py36\\lib\\site-packages (from awscli->-r ./requirements.txt (line 10)) (0.15.2)\n",
      "Requirement already satisfied: PyYAML<5.5,>=3.10 in c:\\games\\anaconda2\\envs\\py36\\lib\\site-packages (from awscli->-r ./requirements.txt (line 10)) (5.4.1)\n",
      "Requirement already satisfied: jmespath<2.0.0,>=0.7.1 in c:\\games\\anaconda2\\envs\\py36\\lib\\site-packages (from botocore==1.24.24->awscli->-r ./requirements.txt (line 10)) (0.10.0)\n",
      "Requirement already satisfied: Flask>=0.8 in c:\\games\\anaconda2\\envs\\py36\\lib\\site-packages (from flask_ngrok->-r ./requirements.txt (line 13)) (2.0.3)\n",
      "Requirement already satisfied: Jinja2>=3.0 in c:\\games\\anaconda2\\envs\\py36\\lib\\site-packages (from Flask>=0.8->flask_ngrok->-r ./requirements.txt (line 13)) (3.0.3)\n",
      "Requirement already satisfied: click>=7.1.2 in c:\\games\\anaconda2\\envs\\py36\\lib\\site-packages (from Flask>=0.8->flask_ngrok->-r ./requirements.txt (line 13)) (8.0.4)\n",
      "Requirement already satisfied: itsdangerous>=2.0 in c:\\games\\anaconda2\\envs\\py36\\lib\\site-packages (from Flask>=0.8->flask_ngrok->-r ./requirements.txt (line 13)) (2.0.1)\n",
      "Requirement already satisfied: MarkupSafe>=2.0 in c:\\games\\anaconda2\\envs\\py36\\lib\\site-packages (from Jinja2>=3.0->Flask>=0.8->flask_ngrok->-r ./requirements.txt (line 13)) (2.0.1)\n",
      "Requirement already satisfied: zipp>=0.5 in c:\\games\\anaconda2\\envs\\py36\\lib\\site-packages (from importlib-metadata->markdown>=2.6.8->tensorboard<3,>=2.3.0->tensorflow==2.3.1->-r ./requirements.txt (line 5)) (3.4.1)\n",
      "Requirement already satisfied: typing-extensions>=3.6.4 in c:\\games\\anaconda2\\envs\\py36\\lib\\site-packages (from importlib-metadata->markdown>=2.6.8->tensorboard<3,>=2.3.0->tensorflow==2.3.1->-r ./requirements.txt (line 5)) (3.7.4.3)\n"
     ]
    }
   ],
   "source": [
    "!pip install -r ./requirements.txt\n",
    "\n",
    "import flask\n",
    "from flask import Flask, render_template, request\n",
    "from flask_ngrok import run_with_ngrok\n",
    "import os\n",
    "\n",
    "from yolov3.utils import detect_image, Load_Yolo_model\n",
    "from yolov3.configs import *\n",
    "yolo = Load_Yolo_model()"
   ]
  },
  {
   "cell_type": "code",
   "execution_count": 6,
   "metadata": {
    "colab": {
     "base_uri": "https://localhost:8080/"
    },
    "executionInfo": {
     "elapsed": 1199,
     "status": "ok",
     "timestamp": 1648427306654,
     "user": {
      "displayName": "Yaroslav Tyschenko",
      "photoUrl": "https://lh3.googleusercontent.com/a/default-user=s64",
      "userId": "14487952742839689172"
     },
     "user_tz": -180
    },
    "id": "cx-AIkJQQbaq",
    "outputId": "71636422-f5c4-449d-bedb-3be21c7f8aa6"
   },
   "outputs": [
    {
     "name": "stdout",
     "output_type": "stream",
     "text": [
      "Authtoken saved to configuration file: C:\\Users\\yarik/.ngrok2/ngrok.yml\n"
     ]
    }
   ],
   "source": [
    "# put your ngrok token\n",
    "!ngrok authtoken 26LPZYNETb2G2mIzWhe9ddHXkYv_6uvhfDYAfqsztiSy9JkZQ"
   ]
  },
  {
   "cell_type": "code",
   "execution_count": 7,
   "metadata": {
    "executionInfo": {
     "elapsed": 232,
     "status": "ok",
     "timestamp": 1648429323127,
     "user": {
      "displayName": "Yaroslav Tyschenko",
      "photoUrl": "https://lh3.googleusercontent.com/a/default-user=s64",
      "userId": "14487952742839689172"
     },
     "user_tz": -180
    },
    "id": "k6ahX5-SQUWe"
   },
   "outputs": [],
   "source": [
    "image_folder = os.path.join('static','images')\n",
    "app = Flask(__name__)\n",
    "run_with_ngrok(app) \n",
    "app.config[\"UPLOAD_FOLDER\"] = image_folder\n",
    "\n",
    "@app.route('/', methods=['GET'])\n",
    "def home():\n",
    "  return render_template('index.html')\n",
    "\n",
    "@app.route('/', methods=['POST'])\n",
    "def predict():\n",
    "\n",
    "  imagefile = request.files['imagefile']\n",
    "  image_path = 'static/images/' + imagefile.filename\n",
    "\n",
    "  # image will be saved in static/images/\n",
    "  imagefile.save(image_path)\n",
    "\n",
    "  pic = os.path.join(app.config['UPLOAD_FOLDER'], imagefile.filename)\n",
    "  prediction = detect_image(yolo, pic, \"static/images/img_after_yolo.jpg\", input_size=YOLO_INPUT_SIZE, show=False, CLASSES=TRAIN_CLASSES, rectangle_colors=(255,0,0))\n",
    "  return render_template('index.html', user_image=\"static/images/img_after_yolo.jpg\", prediction_text='Result image with bounding boxes')"
   ]
  },
  {
   "cell_type": "code",
   "execution_count": 8,
   "metadata": {
    "colab": {
     "base_uri": "https://localhost:8080/"
    },
    "executionInfo": {
     "elapsed": 208587,
     "status": "ok",
     "timestamp": 1648429533524,
     "user": {
      "displayName": "Yaroslav Tyschenko",
      "photoUrl": "https://lh3.googleusercontent.com/a/default-user=s64",
      "userId": "14487952742839689172"
     },
     "user_tz": -180
    },
    "id": "Bx_2wVLXQtNs",
    "outputId": "068d94c2-ccd5-4227-872d-13a8cd202035"
   },
   "outputs": [
    {
     "name": "stdout",
     "output_type": "stream",
     "text": [
      " * Serving Flask app '__main__' (lazy loading)\n",
      " * Environment: production\n",
      "\u001b[31m   WARNING: This is a development server. Do not use it in a production deployment.\u001b[0m\n",
      "\u001b[2m   Use a production WSGI server instead.\u001b[0m\n",
      " * Debug mode: off\n"
     ]
    },
    {
     "name": "stderr",
     "output_type": "stream",
     "text": [
      " * Running on http://127.0.0.1:5000/ (Press CTRL+C to quit)\n"
     ]
    },
    {
     "name": "stdout",
     "output_type": "stream",
     "text": [
      " * Running on http://748e-128-0-105-224.ngrok.io\n",
      " * Traffic stats available on http://127.0.0.1:4040\n"
     ]
    },
    {
     "name": "stderr",
     "output_type": "stream",
     "text": [
      "127.0.0.1 - - [30/Mar/2022 23:59:08] \"GET / HTTP/1.1\" 200 -\n",
      "127.0.0.1 - - [30/Mar/2022 23:59:09] \"GET /favicon.ico HTTP/1.1\" 404 -\n",
      "127.0.0.1 - - [30/Mar/2022 23:59:25] \"POST / HTTP/1.1\" 200 -\n",
      "127.0.0.1 - - [30/Mar/2022 23:59:26] \"GET /static/images/img_after_yolo.jpg HTTP/1.1\" 200 -\n"
     ]
    }
   ],
   "source": [
    "# Start app. Click on http://****.ngrok.io  \n",
    "if __name__=='__main__':\n",
    "  app.run()"
   ]
  },
  {
   "cell_type": "code",
   "execution_count": null,
   "metadata": {},
   "outputs": [],
   "source": []
  }
 ],
 "metadata": {
  "colab": {
   "collapsed_sections": [],
   "name": "Flask_Api_YOLO.ipynb",
   "provenance": []
  },
  "kernelspec": {
   "display_name": "Python [conda env:py36]",
   "language": "python",
   "name": "conda-env-py36-py"
  },
  "language_info": {
   "codemirror_mode": {
    "name": "ipython",
    "version": 3
   },
   "file_extension": ".py",
   "mimetype": "text/x-python",
   "name": "python",
   "nbconvert_exporter": "python",
   "pygments_lexer": "ipython3",
   "version": "3.6.13"
  }
 },
 "nbformat": 4,
 "nbformat_minor": 1
}
