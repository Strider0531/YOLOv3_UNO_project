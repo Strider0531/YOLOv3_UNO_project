{
 "cells": [
  {
   "cell_type": "markdown",
   "metadata": {
    "id": "twluDsqOaqRW"
   },
   "source": [
    "***Notebook original description*** \n",
    "\n",
    "<br>\n",
    "   File name   : YOLOv3_colab_training.ipynb<br>\n",
    "   Author      : PyLessons<br>\n",
    "   Created date: 2020-09-30<br>\n",
    "   Website     : https://pylessons.com/YOLOv3-TF2-GoogleColab<br>\n",
    "   GitHub      : https://github.com/pythonlessons/TensorFlow-2.x-YOLOv3<br>\n",
    "   Description : Train custom model on Google colab tutorial<br>\n",
    "<br>\n",
    "================================================================\n",
    "\n",
    "\n",
    "**Open this notebook from google drive**<br>\n",
    "**Go to \"Edit\" -> \"Notebook settings\" and enable GPU.**\n"
   ]
  },
  {
   "cell_type": "code",
   "execution_count": null,
   "metadata": {
    "colab": {
     "base_uri": "https://localhost:8080/"
    },
    "executionInfo": {
     "elapsed": 356,
     "status": "ok",
     "timestamp": 1647709152027,
     "user": {
      "displayName": "Yaroslav Tyschenko",
      "photoUrl": "https://lh3.googleusercontent.com/a/default-user=s64",
      "userId": "14487952742839689172"
     },
     "user_tz": -120
    },
    "id": "srBiJiFEaKl1",
    "outputId": "b630b24a-e2a1-4c82-940d-14b9bd24e73f"
   },
   "outputs": [],
   "source": [
    "# Check if NVIDIA GPU is enabled\n",
    "!nvidia-smi"
   ]
  },
  {
   "cell_type": "markdown",
   "metadata": {
    "id": "sj3eAw1OXOnB"
   },
   "source": [
    "**Connect and authorize google drive with google colab:**"
   ]
  },
  {
   "cell_type": "code",
   "execution_count": null,
   "metadata": {
    "colab": {
     "base_uri": "https://localhost:8080/"
    },
    "executionInfo": {
     "elapsed": 2095,
     "status": "ok",
     "timestamp": 1647990200831,
     "user": {
      "displayName": "Yaroslav Tyschenko",
      "photoUrl": "https://lh3.googleusercontent.com/a/default-user=s64",
      "userId": "14487952742839689172"
     },
     "user_tz": -120
    },
    "id": "PjjcQSpya_FR",
    "outputId": "8474e9eb-4a36-46be-e13c-0464a25a5fa1"
   },
   "outputs": [],
   "source": [
    "from google.colab import drive\n",
    "drive.mount('/content/gdrive')\n",
    "!ls"
   ]
  },
  {
   "cell_type": "markdown",
   "metadata": {
    "id": "h5GywMhIKCd0"
   },
   "source": [
    "**Open our project \"TensorFlow-2.x-YOLOv3\" direcotry in google drive:**"
   ]
  },
  {
   "cell_type": "code",
   "execution_count": null,
   "metadata": {
    "colab": {
     "base_uri": "https://localhost:8080/"
    },
    "executionInfo": {
     "elapsed": 279,
     "status": "ok",
     "timestamp": 1647990206554,
     "user": {
      "displayName": "Yaroslav Tyschenko",
      "photoUrl": "https://lh3.googleusercontent.com/a/default-user=s64",
      "userId": "14487952742839689172"
     },
     "user_tz": -120
    },
    "id": "iYM4wmy-cFlK",
    "outputId": "00b25f43-ba39-4e62-bfac-f2fa9e9d0236"
   },
   "outputs": [],
   "source": [
    "%cd gdrive/MyDrive/CV_2_YOLO/\n",
    "!ls"
   ]
  },
  {
   "cell_type": "markdown",
   "metadata": {
    "id": "24u5FY2ZKbrc"
   },
   "source": [
    "**Install all required libraries for our project:**"
   ]
  },
  {
   "cell_type": "code",
   "execution_count": null,
   "metadata": {
    "colab": {
     "base_uri": "https://localhost:8080/",
     "height": 1000
    },
    "executionInfo": {
     "elapsed": 117678,
     "status": "ok",
     "timestamp": 1647990116668,
     "user": {
      "displayName": "Yaroslav Tyschenko",
      "photoUrl": "https://lh3.googleusercontent.com/a/default-user=s64",
      "userId": "14487952742839689172"
     },
     "user_tz": -120
    },
    "id": "adhpOaKT9lWC",
    "outputId": "13480b2d-4545-451f-ab6d-dbff7d9bc4c9"
   },
   "outputs": [],
   "source": [
    "!pip install -r ./requirements.txt"
   ]
  },
  {
   "cell_type": "markdown",
   "metadata": {
    "id": "DDmBbAUKLUkB"
   },
   "source": [
    "**Test if TensorFlow works with gpu for you, in output should see similar results:**\n",
    "```\n",
    "2.3.0\n",
    "'/device:GPU:0'\n",
    "```"
   ]
  },
  {
   "cell_type": "code",
   "execution_count": null,
   "metadata": {
    "colab": {
     "base_uri": "https://localhost:8080/",
     "height": 53
    },
    "executionInfo": {
     "elapsed": 398,
     "status": "ok",
     "timestamp": 1647873543038,
     "user": {
      "displayName": "Yaroslav Tyschenko",
      "photoUrl": "https://lh3.googleusercontent.com/a/default-user=s64",
      "userId": "14487952742839689172"
     },
     "user_tz": -120
    },
    "id": "M3cWo7hhc-qO",
    "outputId": "a2011be0-f884-457c-aeb5-237d162eb260"
   },
   "outputs": [],
   "source": [
    "import tensorflow as tf\n",
    "print(tf.__version__)\n",
    "tf.test.gpu_device_name()"
   ]
  },
  {
   "cell_type": "code",
   "execution_count": null,
   "metadata": {
    "executionInfo": {
     "elapsed": 269,
     "status": "ok",
     "timestamp": 1647991583945,
     "user": {
      "displayName": "Yaroslav Tyschenko",
      "photoUrl": "https://lh3.googleusercontent.com/a/default-user=s64",
      "userId": "14487952742839689172"
     },
     "user_tz": -120
    },
    "id": "NUKLydfYCo4r"
   },
   "outputs": [],
   "source": [
    "import cv2\n",
    "import numpy as np\n",
    "import matplotlib\n",
    "import matplotlib.pyplot as plt\n",
    "%matplotlib inline  \n",
    "import tensorflow as tf\n",
    "\n",
    "from yolov3.yolov4 import Create_Yolo\n",
    "from yolov3.utils import load_yolo_weights, detect_image, Load_Yolo_model\n",
    "from yolov3.configs import *"
   ]
  },
  {
   "cell_type": "markdown",
   "metadata": {
    "id": "f81_fxA5Naqm"
   },
   "source": [
    "**Run `XML_to_YOLOv3.py` script to convert XML files to YOLOv3 annotations files:**"
   ]
  },
  {
   "cell_type": "code",
   "execution_count": null,
   "metadata": {
    "colab": {
     "base_uri": "https://localhost:8080/"
    },
    "executionInfo": {
     "elapsed": 10419,
     "status": "ok",
     "timestamp": 1647699787806,
     "user": {
      "displayName": "Yaroslav Tyschenko",
      "photoUrl": "https://lh3.googleusercontent.com/a/default-user=s64",
      "userId": "14487952742839689172"
     },
     "user_tz": -120
    },
    "id": "pXlFGBAp7Ibg",
    "outputId": "d46dfdb3-7a51-40ac-8096-2e3551f99c26"
   },
   "outputs": [],
   "source": [
    "!python tools/XML_to_YOLOv3.py"
   ]
  },
  {
   "cell_type": "markdown",
   "metadata": {
    "id": "5CYGwaPfV3H6"
   },
   "source": [
    "**Start training custom model:**"
   ]
  },
  {
   "cell_type": "code",
   "execution_count": null,
   "metadata": {
    "colab": {
     "base_uri": "https://localhost:8080/"
    },
    "id": "rUxAdSEQEdpG",
    "outputId": "afaf3b90-83e3-4d0e-d4a1-03dcdce948d6"
   },
   "outputs": [],
   "source": [
    "from train import *\n",
    "tf.keras.backend.clear_session()\n",
    "main()"
   ]
  },
  {
   "cell_type": "markdown",
   "metadata": {
    "id": "7YNbZxosPRNw"
   },
   "source": [
    "**Create Yolo v3 custom model and load custom trained weights**"
   ]
  },
  {
   "cell_type": "code",
   "execution_count": null,
   "metadata": {
    "colab": {
     "base_uri": "https://localhost:8080/"
    },
    "executionInfo": {
     "elapsed": 7788,
     "status": "ok",
     "timestamp": 1647873567806,
     "user": {
      "displayName": "Yaroslav Tyschenko",
      "photoUrl": "https://lh3.googleusercontent.com/a/default-user=s64",
      "userId": "14487952742839689172"
     },
     "user_tz": -120
    },
    "id": "W5CuaoSI3KRm",
    "outputId": "47257800-ec66-4adf-8cf5-672a9c67cf9b"
   },
   "outputs": [],
   "source": [
    "yolo = Create_Yolo(input_size=YOLO_INPUT_SIZE, CLASSES=TRAIN_CLASSES)\n",
    "yolo.load_weights(\"./checkpoints/yolov3_custom_UNO\") # use weights"
   ]
  },
  {
   "cell_type": "markdown",
   "metadata": {
    "id": "dwqeCYh_PTuw"
   },
   "source": [
    "**Test the detection with `IMAGES/UNO_6.jpg` image**"
   ]
  },
  {
   "cell_type": "code",
   "execution_count": null,
   "metadata": {
    "colab": {
     "base_uri": "https://localhost:8080/",
     "height": 883
    },
    "executionInfo": {
     "elapsed": 4065,
     "status": "ok",
     "timestamp": 1647876192647,
     "user": {
      "displayName": "Yaroslav Tyschenko",
      "photoUrl": "https://lh3.googleusercontent.com/a/default-user=s64",
      "userId": "14487952742839689172"
     },
     "user_tz": -120
    },
    "id": "bx94uGmLPJz5",
    "outputId": "e8971a79-6b1b-4f7e-bab7-e3317d83f36f"
   },
   "outputs": [],
   "source": [
    "image_path   = \"./IMAGES/UNO_6.jpg\"\n",
    "image = detect_image(yolo, image_path, \"\", input_size=YOLO_INPUT_SIZE, show=False, CLASSES=TRAIN_CLASSES, rectangle_colors=(255,0,0))\n",
    "image = cv2.cvtColor(image, cv2.COLOR_BGR2RGB)\n",
    "\n",
    "plt.figure(figsize=(30,15))\n",
    "plt.imshow(image)"
   ]
  }
 ],
 "metadata": {
  "colab": {
   "collapsed_sections": [],
   "name": "YOLOv3_colab_training.ipynb",
   "provenance": []
  },
  "kernelspec": {
   "display_name": "Python [conda env:py36]",
   "language": "python",
   "name": "conda-env-py36-py"
  },
  "language_info": {
   "codemirror_mode": {
    "name": "ipython",
    "version": 3
   },
   "file_extension": ".py",
   "mimetype": "text/x-python",
   "name": "python",
   "nbconvert_exporter": "python",
   "pygments_lexer": "ipython3",
   "version": "3.6.13"
  }
 },
 "nbformat": 4,
 "nbformat_minor": 1
}
